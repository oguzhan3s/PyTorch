{
 "cells": [
  {
   "cell_type": "code",
   "execution_count": 7,
   "id": "764f1f60",
   "metadata": {},
   "outputs": [],
   "source": [
    "#import libraries\n",
    "import torch\n",
    "import torch.nn as nn\n",
    "from torch.autograd import Variable\n",
    "from torch.utils.data import DataLoader\n",
    "import pandas as pd\n",
    "import numpy as np\n",
    "import matplotlib.pyplot as plt\n",
    "from sklearn.model_selection import train_test_split "
   ]
  },
  {
   "cell_type": "code",
   "execution_count": 10,
   "id": "1aec6f1b",
   "metadata": {},
   "outputs": [
    {
     "data": {
      "image/png": "[encoded data removed]",
      "text/plain": [
       "<Figure size 432x288 with 1 Axes>"
      ]
     },
     "metadata": {
      "needs_background": "light"
     },
     "output_type": "display_data"
    }
   ],
   "source": [
    "#prepare Dataset\n",
    "#load data\n",
    "train = pd.read_csv(\"train.csv\", dtype = np.float32) # kaggle Digit Recognizer\n",
    "\n",
    "#split data info features(pixels) and labels(numbers from 0 to 9)\n",
    "targets_numpy = train.label.values\n",
    "features_numpy = train.loc[:,train.columns != \"label\"].values/255 #normalization\n",
    "\n",
    "#train test split. Size of train data is %80 and size of test data %20\n",
    "features_train, features_test, targets_train, targets_test = train_test_split(features_numpy,\n",
    "                                                                             targets_numpy,\n",
    "                                                                             test_size = 0.2,\n",
    "                                                                             random_state = 42)\n",
    "\n",
    "#create feature and targets tensor for train set. As you remember we need variable to accumulate gradients. Therefore first \n",
    "#we create tensor,  then we will create variable\n",
    "featuresTrain = torch.from_numpy(features_train)\n",
    "targetsTrain = torch.from_numpy(targets_train).type(torch.LongTensor) # data type is long\n",
    "\n",
    "#create feature and targets tensor for test set\n",
    "featuresTest = torch.from_numpy(features_test)\n",
    "targetsTest = torch.from_numpy(targets_test).type(torch.LongTensor) # data type is long\n",
    "\n",
    "#batch_size, epoch and iteration\n",
    "batch_size = 100\n",
    "n_iters = 10000\n",
    "num_epochs = n_iters / (len(features_train) / batch_size)\n",
    "num_epochs = int(num_epochs)\n",
    "\n",
    "#pytorch train and test sets\n",
    "train = torch.utils.data.TensorDataset(featuresTrain,targetsTrain)\n",
    "test = torch.utils.data.TensorDataset(featuresTest, targetsTest)\n",
    "\n",
    "#data loader\n",
    "train_loader = DataLoader(train, batch_size = batch_size, shuffle = False)\n",
    "test_loader = DataLoader(test, batch_size = batch_size, shuffle = False)\n",
    "\n",
    "#visualize one of the images in data set\n",
    "plt.imshow(features_numpy[321].reshape(28,28))\n",
    "plt.axis(\"off\")\n",
    "plt.title(str(targets_numpy[321]))\n",
    "plt.savefig(\"graph.png\")\n",
    "plt.show()"
   ]
  },
  {
   "cell_type": "code",
   "execution_count": 21,
   "id": "4aec1c84",
   "metadata": {},
   "outputs": [],
   "source": [
    "# Create ANN Model\n",
    "class ANNModel(nn.Module):\n",
    "    \n",
    "    def __init__(self, input_dim, hidden_dim, output_dim):\n",
    "        super(ANNModel, self).__init__()\n",
    "        \n",
    "        #linear function 1: 784 --> 150\n",
    "        self.fc1 = nn.Linear(input_dim, hidden_dim) \n",
    "        #non-linearity 1\n",
    "        self.relu1 = nn.ReLU()\n",
    "        \n",
    "        #linear function 2: 150 --> 150\n",
    "        self.fc2 = nn.Linear(hidden_dim, hidden_dim)\n",
    "        #non-linearity 2\n",
    "        self.tanh2 = nn.Tanh()\n",
    "        \n",
    "        #linear function 3: 150 --> 150\n",
    "        self.fc3 = nn.Linear(hidden_dim, hidden_dim)\n",
    "        #non-linearity 3\n",
    "        self.elu3 = nn.ELU()\n",
    "        \n",
    "        #linear function 4 (readout): 150 --> 10\n",
    "        self.fc4 = nn.Linear(hidden_dim, output_dim)  \n",
    "    \n",
    "    def forward(self, x):\n",
    "        #linear function 1\n",
    "        out = self.fc1(x)\n",
    "        #non-linearity 1\n",
    "        out = self.relu1(out)\n",
    "        \n",
    "        #linear function 2\n",
    "        out = self.fc2(out)\n",
    "        #non-linearity 2\n",
    "        out = self.tanh2(out)\n",
    "        \n",
    "        #linear function 2\n",
    "        out = self.fc3(out)\n",
    "        #non-linearity 2\n",
    "        out = self.elu3(out)\n",
    "        \n",
    "        #linear function 4 (readout)\n",
    "        out = self.fc4(out)\n",
    "        return out\n",
    "\n",
    "# instantiate ANN\n",
    "input_dim = 28*28\n",
    "hidden_dim = 150 # hidden layer dim is one of the hyper parameter and it should be chosen and tuned. For now 150 \n",
    "output_dim = 10\n",
    "\n",
    "#create ANN\n",
    "model = ANNModel(input_dim, hidden_dim, output_dim)\n",
    "\n",
    "#cross Entropy Loss \n",
    "error = nn.CrossEntropyLoss()\n",
    "\n",
    "#SGD Optimizer\n",
    "learning_rate = 0.02\n",
    "optimizer = torch.optim.SGD(model.parameters(), lr=learning_rate)"
   ]
  },
  {
   "cell_type": "code",
   "execution_count": 22,
   "id": "76210bda",
   "metadata": {},
   "outputs": [
    {
     "name": "stdout",
     "output_type": "stream",
     "text": [
      "Iteration: 500  Loss: 0.7793295383453369  Accuracy: 80.01190185546875 %\n",
      "Iteration: 1000  Loss: 0.47108012437820435  Accuracy: 87.45237731933594 %\n",
      "Iteration: 1500  Loss: 0.2312970757484436  Accuracy: 89.5 %\n",
      "Iteration: 2000  Loss: 0.2847205400466919  Accuracy: 90.64286041259766 %\n",
      "Iteration: 2500  Loss: 0.29344698786735535  Accuracy: 91.85713958740234 %\n",
      "Iteration: 3000  Loss: 0.12094923853874207  Accuracy: 92.44047546386719 %\n",
      "Iteration: 3500  Loss: 0.22722311317920685  Accuracy: 93.42857360839844 %\n",
      "Iteration: 4000  Loss: 0.06520304828882217  Accuracy: 93.94047546386719 %\n",
      "Iteration: 4500  Loss: 0.28087037801742554  Accuracy: 94.4047622680664 %\n",
      "Iteration: 5000  Loss: 0.10802656412124634  Accuracy: 94.85713958740234 %\n",
      "Iteration: 5500  Loss: 0.20052045583724976  Accuracy: 94.9047622680664 %\n",
      "Iteration: 6000  Loss: 0.1824733316898346  Accuracy: 95.22618865966797 %\n",
      "Iteration: 6500  Loss: 0.09983617812395096  Accuracy: 95.45237731933594 %\n",
      "Iteration: 7000  Loss: 0.10826435685157776  Accuracy: 95.94047546386719 %\n",
      "Iteration: 7500  Loss: 0.10851956158876419  Accuracy: 95.88095092773438 %\n",
      "Iteration: 8000  Loss: 0.17302477359771729  Accuracy: 96.02381134033203 %\n",
      "Iteration: 8500  Loss: 0.05349140986800194  Accuracy: 96.17857360839844 %\n",
      "Iteration: 9000  Loss: 0.04032361879944801  Accuracy: 96.32142639160156 %\n",
      "Iteration: 9500  Loss: 0.02000841312110424  Accuracy: 96.47618865966797 %\n"
     ]
    }
   ],
   "source": [
    "# ANN model training\n",
    "count = 0\n",
    "loss_list = []\n",
    "iteration_list = []\n",
    "accuracy_list = []\n",
    "for epoch in range(num_epochs):\n",
    "    for i, (images, labels) in enumerate(train_loader):\n",
    "\n",
    "        train = Variable(images.view(-1, 28*28))\n",
    "        labels = Variable(labels)\n",
    "        \n",
    "        #clear gradients\n",
    "        optimizer.zero_grad()\n",
    "        \n",
    "        #forward propagation\n",
    "        outputs = model(train)\n",
    "        \n",
    "        #calculate softmax and ross entropy loss\n",
    "        loss = error(outputs, labels)\n",
    "        \n",
    "        #calculating gradients\n",
    "        loss.backward()\n",
    "        \n",
    "        #update parameters\n",
    "        optimizer.step()\n",
    "        \n",
    "        count += 1\n",
    "        \n",
    "        if count % 50 == 0:\n",
    "            #calculate accuracy         \n",
    "            correct = 0\n",
    "            total = 0\n",
    "            #predict test dataset\n",
    "            for images, labels in test_loader:\n",
    "\n",
    "                test = Variable(images.view(-1, 28*28))\n",
    "                \n",
    "                #forward propagation\n",
    "                outputs = model(test)\n",
    "                \n",
    "                #get predictions from the maximum value\n",
    "                predicted = torch.max(outputs.data, 1)[1]\n",
    "                \n",
    "                #total number of labels\n",
    "                total += len(labels)\n",
    "\n",
    "                #total correct predictions\n",
    "                correct += (predicted == labels).sum()\n",
    "            \n",
    "            accuracy = 100 * correct / float(total)\n",
    "            \n",
    "            #store loss and iteration\n",
    "            loss_list.append(loss.data)\n",
    "            iteration_list.append(count)\n",
    "            accuracy_list.append(accuracy)\n",
    "        if count % 500 == 0:\n",
    "            #print Loss\n",
    "            print('Iteration: {}  Loss: {}  Accuracy: {} %'.format(count, loss.data, accuracy))"
   ]
  },
  {
   "cell_type": "code",
   "execution_count": 23,
   "id": "292bfe16",
   "metadata": {},
   "outputs": [
    {
     "data": {
      "image/png": "[encoded data removed]",
      "text/plain": [
       "<Figure size 432x288 with 1 Axes>"
      ]
     },
     "metadata": {
      "needs_background": "light"
     },
     "output_type": "display_data"
    },
    {
     "data": {
      "image/png": "[encoded data removed]",
      "text/plain": [
       "<Figure size 432x288 with 1 Axes>"
      ]
     },
     "metadata": {
      "needs_background": "light"
     },
     "output_type": "display_data"
    }
   ],
   "source": [
    "#visualization loss\n",
    "plt.plot(iteration_list, loss_list)\n",
    "plt.xlabel(\"number of iteration\")\n",
    "plt.ylabel(\"loss\")\n",
    "plt.title(\"ann: loss vs number of iteration\")\n",
    "plt.show()\n",
    "\n",
    "#visualization accuracy\n",
    "plt.plot(iteration_list, accuracy_list, color = \"red\")\n",
    "plt.xlabel(\"number of iteration\")\n",
    "plt.ylabel(\"accuracy\")\n",
    "plt.title(\"ann: accuracy vs number of iteration\")\n",
    "plt.show()"
   ]
  }
 ],
 "metadata": {
  "kernelspec": {
   "display_name": "Python 3 (ipykernel)",
   "language": "python",
   "name": "python3"
  },
  "language_info": {
   "codemirror_mode": {
    "name": "ipython",
    "version": 3
   },
   "file_extension": ".py",
   "mimetype": "text/x-python",
   "name": "python",
   "nbconvert_exporter": "python",
   "pygments_lexer": "ipython3",
   "version": "3.9.12"
  }
 },
 "nbformat": 4,
 "nbformat_minor": 5
}
