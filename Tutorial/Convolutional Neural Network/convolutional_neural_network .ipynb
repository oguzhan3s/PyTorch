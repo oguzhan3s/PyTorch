{
 "cells": [
  {
   "cell_type": "code",
   "execution_count": 1,
   "id": "92aa39db",
   "metadata": {},
   "outputs": [],
   "source": [
    "#import libraries\n",
    "import torch\n",
    "import torch.nn as nn\n",
    "from torch.autograd import Variable\n",
    "from torch.utils.data import DataLoader\n",
    "import pandas as pd\n",
    "import numpy as np\n",
    "import matplotlib.pyplot as plt\n",
    "from sklearn.model_selection import train_test_split "
   ]
  },
  {
   "cell_type": "code",
   "execution_count": 3,
   "id": "066a90d9",
   "metadata": {},
   "outputs": [
    {
     "data": {
      "image/png": "[encoded data removed]",
      "text/plain": [
       "<Figure size 432x288 with 1 Axes>"
      ]
     },
     "metadata": {
      "needs_background": "light"
     },
     "output_type": "display_data"
    }
   ],
   "source": [
    "#prepare Dataset\n",
    "#load data\n",
    "train = pd.read_csv(\"train.csv\", dtype = np.float32) # kaggle Digit Recognizer\n",
    "\n",
    "#split data info features(pixels) and labels(numbers from 0 to 9)\n",
    "targets_numpy = train.label.values\n",
    "features_numpy = train.loc[:,train.columns != \"label\"].values/255 #normalization\n",
    "\n",
    "#train test split. Size of train data is %80 and size of test data %20\n",
    "features_train, features_test, targets_train, targets_test = train_test_split(features_numpy,\n",
    "                                                                             targets_numpy,\n",
    "                                                                             test_size = 0.2,\n",
    "                                                                             random_state = 42)\n",
    "\n",
    "#create feature and targets tensor for train set. As you remember we need variable to accumulate gradients. Therefore first \n",
    "#we create tensor,  then we will create variable\n",
    "featuresTrain = torch.from_numpy(features_train)\n",
    "targetsTrain = torch.from_numpy(targets_train).type(torch.LongTensor) # data type is long\n",
    "\n",
    "#create feature and targets tensor for test set\n",
    "featuresTest = torch.from_numpy(features_test)\n",
    "targetsTest = torch.from_numpy(targets_test).type(torch.LongTensor) # data type is long\n",
    "\n",
    "#batch_size, epoch and iteration\n",
    "batch_size = 100\n",
    "n_iters = 10000\n",
    "num_epochs = n_iters / (len(features_train) / batch_size)\n",
    "num_epochs = int(num_epochs)\n",
    "\n",
    "#pytorch train and test sets\n",
    "train = torch.utils.data.TensorDataset(featuresTrain,targetsTrain)\n",
    "test = torch.utils.data.TensorDataset(featuresTest, targetsTest)\n",
    "\n",
    "#data loader\n",
    "train_loader = DataLoader(train, batch_size = batch_size, shuffle = False)\n",
    "test_loader = DataLoader(test, batch_size = batch_size, shuffle = False)\n",
    "\n",
    "#visualize one of the images in data set\n",
    "plt.imshow(features_numpy[421].reshape(28,28))\n",
    "plt.axis(\"off\")\n",
    "plt.title(str(targets_numpy[421]))\n",
    "plt.savefig(\"graph.png\")\n",
    "plt.show()"
   ]
  },
  {
   "cell_type": "code",
   "execution_count": 5,
   "id": "f5b47a18",
   "metadata": {},
   "outputs": [],
   "source": [
    "#create CNN model\n",
    "class CNNModel(nn.Module):\n",
    "    def __init__(self):\n",
    "        super(CNNModel, self).__init__()\n",
    "        \n",
    "        #convolution 1\n",
    "        self.cnn1 = nn.Conv2d(in_channels=1, out_channels=16, kernel_size=5, stride=1, padding=0)\n",
    "        self.relu1 = nn.ReLU()\n",
    "        \n",
    "        #max pool 1\n",
    "        self.maxpool1 = nn.MaxPool2d(kernel_size = 2)\n",
    "        \n",
    "        #convolution 2\n",
    "        self.cnn2 = nn.Conv2d(in_channels = 16, out_channels = 32, kernel_size = 5, stride = 1, padding = 0)\n",
    "        self.relu2 = nn.ReLU()\n",
    "        \n",
    "        #max pool 2\n",
    "        self.maxpool2 = nn.MaxPool2d(kernel_size = 2)\n",
    "        \n",
    "        #fully connected 1\n",
    "        self.fc1 = nn.Linear(32 * 4 * 4, 10)\n",
    "        \n",
    "    def forward(self, x):\n",
    "        #convolution 1\n",
    "        out = self.cnn1(x)\n",
    "        out = self.relu1(out)\n",
    "        \n",
    "        #max pool 1\n",
    "        out = self.maxpool1(out)\n",
    "        \n",
    "        #convolution 2\n",
    "        out = self.cnn2(out)\n",
    "        out = self.relu2(out)\n",
    "        \n",
    "        #max pool 2\n",
    "        out = self.maxpool2(out)\n",
    "        \n",
    "        #flatten\n",
    "        out = out.view(out.size(0), -1)\n",
    "        \n",
    "        #linear function (readout)\n",
    "        out = self.fc1(out)\n",
    "        \n",
    "        return out\n",
    "\n",
    "    \n",
    "#batch_size, epoch and iteration\n",
    "batch_size = 100\n",
    "n_iters = 2500\n",
    "num_epochs = n_iters / (len(features_train) / batch_size)\n",
    "num_epochs = int(num_epochs)\n",
    "\"\"\"\n",
    "#pytorch train and test sets\n",
    "train = torch.utils.data.TensorDataset(featuresTrain, targetsTrain)\n",
    "test = torch.utils.data.TensorDataset(featuresTest, targetsTest)\n",
    "\n",
    "#data loader\n",
    "train_loader = torch.utils.data.DataLoader(train, batch_size = batch_size, shuffle = False)\n",
    "test_loader = torch.utils.data.DataLoader(test, batch_size = batch_size, shuffle = False)\n",
    "\"\"\"\n",
    "#create CNN\n",
    "model = CNNModel()\n",
    "\n",
    "#cross entropy loss\n",
    "error = nn.CrossEntropyLoss()\n",
    "\n",
    "#SGD optimizer\n",
    "learning_rate = 0.1\n",
    "optimizer = torch.optim.SGD(model.parameters(), lr = learning_rate)     "
   ]
  },
  {
   "cell_type": "code",
   "execution_count": 6,
   "id": "63b81ce5",
   "metadata": {},
   "outputs": [
    {
     "name": "stdout",
     "output_type": "stream",
     "text": [
      "Iteration: 500  Loss: 0.09573162347078323  Accuracy: 96.41666412353516 %\n",
      "Iteration: 1000  Loss: 0.04588596522808075  Accuracy: 97.5952377319336 %\n",
      "Iteration: 1500  Loss: 0.039978619664907455  Accuracy: 97.71428680419922 %\n",
      "Iteration: 2000  Loss: 0.01578962244093418  Accuracy: 98.25 %\n"
     ]
    }
   ],
   "source": [
    "#cnn model training\n",
    "count = 0\n",
    "loss_list = []\n",
    "iteration_list = []\n",
    "accuracy_list = []\n",
    "for epoch in range(num_epochs):\n",
    "    for i, (images, labels) in enumerate(train_loader):\n",
    "        \n",
    "        train = Variable(images.view(100,1,28,28))\n",
    "        labels = Variable(labels)\n",
    "        \n",
    "        #clear gradients\n",
    "        optimizer.zero_grad()\n",
    "        \n",
    "        #forward propagation\n",
    "        outputs = model(train)\n",
    "        \n",
    "        #calculate softmax and cross entropy loss\n",
    "        loss = error(outputs, labels)\n",
    "        \n",
    "        #calculating gradients\n",
    "        loss.backward()\n",
    "        \n",
    "        #update parameters\n",
    "        optimizer.step()\n",
    "        count += 1\n",
    "        if count % 50 == 0:\n",
    "            #calculate accuracy\n",
    "            correct = 0\n",
    "            total = 0\n",
    "            #iterate through test dataset\n",
    "            for images, labels in test_loader:\n",
    "                \n",
    "                test = Variable(images.view(100,1,28,28))\n",
    "                \n",
    "                #forward propagation\n",
    "                outputs = model(test)\n",
    "                \n",
    "                #get predictions from the maximum \n",
    "                predicted = torch.max(outputs.data, 1)[1]\n",
    "                \n",
    "                #total number of labels\n",
    "                total += len(labels)\n",
    "                \n",
    "                correct += (predicted == labels).sum()\n",
    "                \n",
    "            accuracy = 100 * correct / float(total)\n",
    "            \n",
    "            #store loss and iteration\n",
    "            loss_list.append(loss.data)\n",
    "            iteration_list.append(count)\n",
    "            accuracy_list.append(accuracy)\n",
    "        if count % 500 == 0:\n",
    "            #print loss\n",
    "            print('Iteration: {}  Loss: {}  Accuracy: {} %'.format(count, loss.data, accuracy))     "
   ]
  },
  {
   "cell_type": "code",
   "execution_count": 7,
   "id": "2333e9f2",
   "metadata": {},
   "outputs": [
    {
     "data": {
      "image/png": "[encoded data removed]",
      "text/plain": [
       "<Figure size 432x288 with 1 Axes>"
      ]
     },
     "metadata": {
      "needs_background": "light"
     },
     "output_type": "display_data"
    },
    {
     "data": {
      "image/png": "[encoded data removed]",
      "text/plain": [
       "<Figure size 432x288 with 1 Axes>"
      ]
     },
     "metadata": {
      "needs_background": "light"
     },
     "output_type": "display_data"
    }
   ],
   "source": [
    "#visualization loss\n",
    "plt.plot(iteration_list,loss_list)\n",
    "plt.xlabel(\"number of iteration\")\n",
    "plt.ylabel(\"loss\")\n",
    "plt.title(\"cnn: loss vs number of iteration\")\n",
    "plt.show()\n",
    "\n",
    "#visualization accuracy\n",
    "plt.plot(iteration_list,accuracy_list, color = \"pink\")\n",
    "plt.xlabel(\"number of iteration\")\n",
    "plt.ylabel(\"accuracy\")\n",
    "plt.title(\"cnn: accuracy vs number of iteration\")\n",
    "plt.show()"
   ]
  }
 ],
 "metadata": {
  "kernelspec": {
   "display_name": "Python 3 (ipykernel)",
   "language": "python",
   "name": "python3"
  },
  "language_info": {
   "codemirror_mode": {
    "name": "ipython",
    "version": 3
   },
   "file_extension": ".py",
   "mimetype": "text/x-python",
   "name": "python",
   "nbconvert_exporter": "python",
   "pygments_lexer": "ipython3",
   "version": "3.9.12"
  }
 },
 "nbformat": 4,
 "nbformat_minor": 5
}
