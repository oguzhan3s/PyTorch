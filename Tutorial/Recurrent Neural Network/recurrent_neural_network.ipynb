{
 "cells": [
  {
   "cell_type": "code",
   "execution_count": 1,
   "id": "6aa17e54",
   "metadata": {},
   "outputs": [],
   "source": [
    "import numpy as np\n",
    "import pandas as pd\n",
    "import matplotlib.pyplot as plt\n",
    "import os"
   ]
  },
  {
   "cell_type": "code",
   "execution_count": 2,
   "id": "2be70c58",
   "metadata": {},
   "outputs": [],
   "source": [
    "#import libraries\n",
    "import torch\n",
    "import torch.nn as nn\n",
    "from torch.autograd import Variable\n",
    "from sklearn.model_selection import train_test_split\n",
    "from torch.utils.data import DataLoader, TensorDataset"
   ]
  },
  {
   "cell_type": "code",
   "execution_count": 10,
   "id": "b94f116b",
   "metadata": {},
   "outputs": [
    {
     "data": {
      "image/png": "[encoded data removed]",
      "text/plain": [
       "<Figure size 432x288 with 1 Axes>"
      ]
     },
     "metadata": {
      "needs_background": "light"
     },
     "output_type": "display_data"
    }
   ],
   "source": [
    "#prepare Dataset\n",
    "#load data\n",
    "train = pd.read_csv(\"train.csv\", dtype = np.float32) # kaggle Digit Recognizer\n",
    "\n",
    "#split data info features(pixels) and labels(numbers from 0 to 9)\n",
    "targets_numpy = train.label.values\n",
    "features_numpy = train.loc[:,train.columns != \"label\"].values/255 #normalization\n",
    "\n",
    "#train test split. Size of train data is %80 and size of test data %20\n",
    "features_train, features_test, targets_train, targets_test = train_test_split(features_numpy,\n",
    "                                                                             targets_numpy,\n",
    "                                                                             test_size = 0.2,\n",
    "                                                                             random_state = 42)\n",
    "\n",
    "#create feature and targets tensor for train set. As you remember we need variable to accumulate gradients. Therefore first \n",
    "#we create tensor,  then we will create variable\n",
    "featuresTrain = torch.from_numpy(features_train)\n",
    "targetsTrain = torch.from_numpy(targets_train).type(torch.LongTensor) # data type is long\n",
    "\n",
    "#create feature and targets tensor for test set\n",
    "featuresTest = torch.from_numpy(features_test)\n",
    "targetsTest = torch.from_numpy(targets_test).type(torch.LongTensor) # data type is long\n",
    "\n",
    "#batch_size, epoch and iteration\n",
    "batch_size = 100\n",
    "n_iters = 10000\n",
    "num_epochs = n_iters / (len(features_train) / batch_size)\n",
    "num_epochs = int(num_epochs)\n",
    "\n",
    "#pytorch train and test sets\n",
    "train = torch.utils.data.TensorDataset(featuresTrain,targetsTrain)\n",
    "test = torch.utils.data.TensorDataset(featuresTest, targetsTest)\n",
    "\n",
    "#data loader\n",
    "train_loader = DataLoader(train, batch_size = batch_size, shuffle = False)\n",
    "test_loader = DataLoader(test, batch_size = batch_size, shuffle = False)\n",
    "\n",
    "#visualize one of the images in data set\n",
    "plt.imshow(features_numpy[291].reshape(28,28))\n",
    "plt.axis(\"off\")\n",
    "plt.title(str(targets_numpy[291]))\n",
    "plt.savefig(\"graph.png\")\n",
    "plt.show()"
   ]
  },
  {
   "cell_type": "code",
   "execution_count": 12,
   "id": "e04e3af1",
   "metadata": {},
   "outputs": [],
   "source": [
    "#create RNN Model\n",
    "class RNNModel(nn.Module):\n",
    "    def __init__(self, input_dim, hidden_dim, layer_dim, output_dim):\n",
    "        super(RNNModel, self).__init__()\n",
    "        \n",
    "        #number of hidden dimensions\n",
    "        self.hidden_dim = hidden_dim\n",
    "        \n",
    "        #number of hidden layers\n",
    "        self.layer_dim = layer_dim\n",
    "        \n",
    "        #rnn\n",
    "        self.rnn = nn.RNN(input_dim, hidden_dim, layer_dim, batch_first = True,\n",
    "                         nonlinearity =\"relu\")\n",
    "        \n",
    "        #readout layer\n",
    "        self.fc = nn.Linear(hidden_dim, output_dim)\n",
    "        \n",
    "    def forward(self, x):\n",
    "        \n",
    "        #initialize hidden state with zeros\n",
    "        h0 = Variable(torch.zeros(self.layer_dim, x.size(0), self.hidden_dim))\n",
    "        \n",
    "        #one time step\n",
    "        out, hn = self.rnn(x, h0)\n",
    "        out = self.fc(out[:,-1, :])\n",
    "        return out\n",
    "\n",
    "# create rnn\n",
    "input_dim = 28 #input dimension\n",
    "hidden_dim = 100 #hidden layer dimension\n",
    "layer_dim = 1 #number of hidden layers\n",
    "output_dim = 10 #output dimension\n",
    "\n",
    "model = RNNModel(input_dim, hidden_dim, layer_dim, output_dim)\n",
    "\n",
    "#cross entropy loss\n",
    "error = nn.CrossEntropyLoss()\n",
    "\n",
    "#SGD optimizer\n",
    "learning_rate = 0.05\n",
    "optimizer = torch.optim.SGD(model.parameters(), lr = learning_rate)     "
   ]
  },
  {
   "cell_type": "code",
   "execution_count": 15,
   "id": "15ff6a1b",
   "metadata": {},
   "outputs": [
    {
     "name": "stdout",
     "output_type": "stream",
     "text": [
      "Iteration: 500  Loss: 0.8653382062911987  Accuracy: 73.45237731933594 %\n",
      "Iteration: 1000  Loss: 0.6529265642166138  Accuracy: 74.89286041259766 %\n",
      "Iteration: 1500  Loss: 0.3761917054653168  Accuracy: 89.16666412353516 %\n",
      "Iteration: 2000  Loss: 0.3226371109485626  Accuracy: 90.72618865966797 %\n",
      "Iteration: 2500  Loss: 0.17376580834388733  Accuracy: 91.60713958740234 %\n",
      "Iteration: 3000  Loss: 0.1250847727060318  Accuracy: 94.28571319580078 %\n",
      "Iteration: 3500  Loss: 0.3748624324798584  Accuracy: 94.85713958740234 %\n",
      "Iteration: 4000  Loss: 0.044670961797237396  Accuracy: 94.77381134033203 %\n",
      "Iteration: 4500  Loss: 0.19828416407108307  Accuracy: 95.76190185546875 %\n",
      "Iteration: 5000  Loss: 0.0685657188296318  Accuracy: 95.9047622680664 %\n",
      "Iteration: 5500  Loss: 0.1445707380771637  Accuracy: 95.38095092773438 %\n",
      "Iteration: 6000  Loss: 0.14103400707244873  Accuracy: 96.58333587646484 %\n",
      "Iteration: 6500  Loss: 0.16348718106746674  Accuracy: 96.36904907226562 %\n",
      "Iteration: 7000  Loss: 0.13218829035758972  Accuracy: 96.47618865966797 %\n",
      "Iteration: 7500  Loss: 0.11664221435785294  Accuracy: 96.91666412353516 %\n",
      "Iteration: 8000  Loss: 0.23427465558052063  Accuracy: 96.23809814453125 %\n",
      "Iteration: 8500  Loss: 0.04173674061894417  Accuracy: 97.11904907226562 %\n",
      "Iteration: 9000  Loss: 0.1020435243844986  Accuracy: 96.94047546386719 %\n",
      "Iteration: 9500  Loss: 0.0291999951004982  Accuracy: 96.5952377319336 %\n"
     ]
    }
   ],
   "source": [
    "seq_dim = 28\n",
    "loss_list = []\n",
    "iteration_list = []\n",
    "accuracy_list = []\n",
    "count = 0\n",
    "for epoch in range(num_epochs):\n",
    "    for i, (images, labels) in enumerate(train_loader):\n",
    "        \n",
    "        train = Variable(images.view(-1, seq_dim, input_dim))\n",
    "        labels = Variable(labels)\n",
    "        \n",
    "        #clear gradients\n",
    "        optimizer.zero_grad()\n",
    "        \n",
    "        #forward propagation\n",
    "        outputs = model(train)\n",
    "        \n",
    "        #calculate softmax and ross entropy loss\n",
    "        loss = error(outputs, labels)\n",
    "        \n",
    "        #calculating gradients\n",
    "        loss.backward()\n",
    "        \n",
    "        #update parameters\n",
    "        optimizer.step()\n",
    "        \n",
    "        count +=1\n",
    "        \n",
    "        if count % 250 == 0:\n",
    "            #calculate accuracy\n",
    "            correct = 0\n",
    "            total = 0\n",
    "            #iterate through test dataset\n",
    "            for images, labels in test_loader:\n",
    "                \n",
    "                test = Variable(images.view(-1,seq_dim,input_dim))\n",
    "                \n",
    "                #forward propagation\n",
    "                outputs = model(test)\n",
    "                \n",
    "                #get predictions from the maximum \n",
    "                predicted = torch.max(outputs.data, 1)[1]\n",
    "                \n",
    "                #total number of labels\n",
    "                total += len(labels)\n",
    "                \n",
    "                correct += (predicted == labels).sum()\n",
    "                \n",
    "            accuracy = 100 * correct / float(total)\n",
    "            \n",
    "            #store loss and iteration\n",
    "            loss_list.append(loss.data)\n",
    "            iteration_list.append(count)\n",
    "            accuracy_list.append(accuracy)\n",
    "        if count % 500 == 0:\n",
    "            #print loss\n",
    "            print('Iteration: {}  Loss: {}  Accuracy: {} %'.format(count, loss.data, accuracy))     "
   ]
  },
  {
   "cell_type": "code",
   "execution_count": 16,
   "id": "b1b088cd",
   "metadata": {},
   "outputs": [
    {
     "data": {
      "image/png": "[encoded data removed]",
      "text/plain": [
       "<Figure size 432x288 with 1 Axes>"
      ]
     },
     "metadata": {
      "needs_background": "light"
     },
     "output_type": "display_data"
    },
    {
     "data": {
      "image/png": "[encoded data removed]",
      "text/plain": [
       "<Figure size 432x288 with 1 Axes>"
      ]
     },
     "metadata": {
      "needs_background": "light"
     },
     "output_type": "display_data"
    }
   ],
   "source": [
    "#visualization loss\n",
    "plt.plot(iteration_list,loss_list)\n",
    "plt.xlabel(\"number of iteration\")\n",
    "plt.ylabel(\"loss\")\n",
    "plt.title(\"rnn: loss vs number of iteration\")\n",
    "plt.show()\n",
    "\n",
    "#visualization accuracy\n",
    "plt.plot(iteration_list,accuracy_list, color = \"pink\")\n",
    "plt.xlabel(\"number of iteration\")\n",
    "plt.ylabel(\"accuracy\")\n",
    "plt.title(\"rnn: accuracy vs number of iteration\")\n",
    "plt.savefig(\"graph1.png\")\n",
    "plt.show()"
   ]
  }
 ],
 "metadata": {
  "kernelspec": {
   "display_name": "Python 3 (ipykernel)",
   "language": "python",
   "name": "python3"
  },
  "language_info": {
   "codemirror_mode": {
    "name": "ipython",
    "version": 3
   },
   "file_extension": ".py",
   "mimetype": "text/x-python",
   "name": "python",
   "nbconvert_exporter": "python",
   "pygments_lexer": "ipython3",
   "version": "3.9.12"
  }
 },
 "nbformat": 4,
 "nbformat_minor": 5
}
