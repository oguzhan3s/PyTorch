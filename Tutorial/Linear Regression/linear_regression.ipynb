{
 "cells": [
  {
   "cell_type": "code",
   "execution_count": 1,
   "id": "418f7e73",
   "metadata": {},
   "outputs": [],
   "source": [
    "# import variable from pytorch library\n",
    "from torch.autograd import Variable\n",
    "# import pytorch library\n",
    "import torch\n",
    "import numpy as np\n",
    "import matplotlib.pyplot as plt"
   ]
  },
  {
   "cell_type": "code",
   "execution_count": 2,
   "id": "52f38a1a",
   "metadata": {},
   "outputs": [],
   "source": [
    "#lets define phone prices\n",
    "phone_prices_array = [3,4,5,6,7,8,9]\n",
    "phone_price_np = np.array(phone_prices_array, dtype = np.float32)\n",
    "phone_price_np = phone_price_np.reshape(-1,1)\n",
    "phone_price_tensor = Variable(torch.from_numpy(phone_price_np))"
   ]
  },
  {
   "cell_type": "code",
   "execution_count": 3,
   "id": "5590aee5",
   "metadata": {},
   "outputs": [
    {
     "data": {
      "text/plain": [
       "(7, 1)"
      ]
     },
     "execution_count": 3,
     "metadata": {},
     "output_type": "execute_result"
    }
   ],
   "source": [
    "phone_price_np.shape"
   ]
  },
  {
   "cell_type": "code",
   "execution_count": 4,
   "id": "a21cf745",
   "metadata": {},
   "outputs": [
    {
     "data": {
      "text/plain": [
       "torch.Size([7, 1])"
      ]
     },
     "execution_count": 4,
     "metadata": {},
     "output_type": "execute_result"
    }
   ],
   "source": [
    "phone_price_tensor.shape"
   ]
  },
  {
   "cell_type": "code",
   "execution_count": 5,
   "id": "106c954d",
   "metadata": {},
   "outputs": [],
   "source": [
    "#lets define number of phone sell\n",
    "number_of_phone_sell_array = [7.5, 7, 6.5, 6.0, 5.5, 5.0, 4.5 ]\n",
    "number_of_phone_sell_np = np.array(number_of_phone_sell_array, dtype=np.float32)\n",
    "number_of_phone_sell_np = number_of_phone_sell_np.reshape(-1,1)\n",
    "number_of_phone_sell_tensor = Variable(torch.from_numpy(number_of_phone_sell_np))"
   ]
  },
  {
   "cell_type": "code",
   "execution_count": null,
   "id": "b22c2ddd",
   "metadata": {},
   "outputs": [],
   "source": [
    "#visualize our data\n",
    "plt.scatter(phone_prices_array, number_of_phone_sell_array)\n",
    "plt.xlabel(\"phone price\")\n",
    "plt.ylabel(\"number of phone sell\")\n",
    "plt.title(\"phone price vs number of phone sell\")\n",
    "plt.show()"
   ]
  }
 ],
 "metadata": {
  "kernelspec": {
   "display_name": "Python 3 (ipykernel)",
   "language": "python",
   "name": "python3"
  },
  "language_info": {
   "codemirror_mode": {
    "name": "ipython",
    "version": 3
   },
   "file_extension": ".py",
   "mimetype": "text/x-python",
   "name": "python",
   "nbconvert_exporter": "python",
   "pygments_lexer": "ipython3",
   "version": "3.9.12"
  }
 },
 "nbformat": 4,
 "nbformat_minor": 5
}
