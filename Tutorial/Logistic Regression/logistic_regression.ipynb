{
 "cells": [
  {
   "cell_type": "code",
   "execution_count": 42,
   "id": "c4312da0",
   "metadata": {},
   "outputs": [],
   "source": [
    "#import libraries\n",
    "import torch\n",
    "import torch.nn as nn\n",
    "from torch.autograd import Variable\n",
    "from torch.utils.data import DataLoader\n",
    "import pandas as pd\n",
    "import numpy as np\n",
    "import matplotlib.pyplot as plt\n",
    "from sklearn.model_selection import train_test_split "
   ]
  },
  {
   "cell_type": "code",
   "execution_count": 43,
   "id": "f30bb5ae",
   "metadata": {},
   "outputs": [
    {
     "data": {
      "image/png": "[encoded data removed]",
      "text/plain": [
       "<Figure size 432x288 with 1 Axes>"
      ]
     },
     "metadata": {
      "needs_background": "light"
     },
     "output_type": "display_data"
    }
   ],
   "source": [
    "#prepare Dataset\n",
    "#load data\n",
    "train = pd.read_csv(\"train.csv\", dtype = np.float32) # kaggle Digit Recognizer\n",
    "\n",
    "#split data info features(pixels) and labels(numbers from 0 to 9)\n",
    "targets_numpy = train.label.values\n",
    "features_numpy = train.loc[:,train.columns != \"label\"].values/255 #normalization\n",
    "\n",
    "#train test split. Size of train data is %80 and size of test data %20\n",
    "features_train, features_test, targets_train, targets_test = train_test_split(features_numpy,\n",
    "                                                                             targets_numpy,\n",
    "                                                                             test_size = 0.2,\n",
    "                                                                             random_state = 42)\n",
    "\n",
    "#create feature and targets tensor for train set. As you remember we need variable to accumulate gradients. Therefore first \n",
    "#we create tensor,  then we will create variable\n",
    "featuresTrain = torch.from_numpy(features_train)\n",
    "targetsTrain = torch.from_numpy(targets_train).type(torch.LongTensor) # data type is long\n",
    "\n",
    "#create feature and targets tensor for test set\n",
    "featuresTest = torch.from_numpy(features_test)\n",
    "targetsTest = torch.from_numpy(targets_test).type(torch.LongTensor) # data type is long\n",
    "\n",
    "#batch_size, epoch and iteration\n",
    "batch_size = 100\n",
    "n_iters = 10000\n",
    "num_epochs = n_iters / (len(features_train) / batch_size)\n",
    "num_epochs = int(num_epochs)\n",
    "\n",
    "#pytorch train and test sets\n",
    "train = torch.utils.data.TensorDataset(featuresTrain,targetsTrain)\n",
    "test = torch.utils.data.TensorDataset(featuresTest, targetsTest)\n",
    "\n",
    "#data loader\n",
    "train_loader = DataLoader(train, batch_size = batch_size, shuffle = False)\n",
    "test_loader = DataLoader(test, batch_size = batch_size, shuffle = False)\n",
    "\n",
    "#visualize one of the images in data set\n",
    "plt.imshow(features_numpy[44].reshape(28,28))\n",
    "plt.axis(\"off\")\n",
    "plt.title(str(targets_numpy[44]))\n",
    "plt.savefig(\"graph.png\")\n",
    "plt.show()"
   ]
  },
  {
   "cell_type": "code",
   "execution_count": 44,
   "id": "d6937d38",
   "metadata": {},
   "outputs": [],
   "source": [
    "#Create Logistic Regression Model\n",
    "class LogisticRegressionModel(nn.Module):\n",
    "    def __init__(self, input_dim, output_dim):\n",
    "        super(LogisticRegressionModel, self).__init__()\n",
    "        #linear part\n",
    "        self.linear = nn.Linear(input_dim, output_dim)\n",
    "        \n",
    "    def forward(self, x):\n",
    "        out  =self.linear(x)\n",
    "        return out\n",
    "    \n",
    "# instantiate model class\n",
    "input_dim = 28*28 #size of image px*px\n",
    "output_dim = 10 # labels 0, 1, 2, 3, 4, 5, 6, 7, 8, 9\n",
    "\n",
    "#create logistic regression model\n",
    "model = LogisticRegressionModel(input_dim, output_dim)\n",
    "\n",
    "#cross entropy loss\n",
    "error = nn.CrossEntropyLoss() #softmax is defined here\n",
    "\n",
    "#SGD optimizer\n",
    "learning_rate = 0.001\n",
    "optimizer = torch.optim.SGD(model.parameters(), lr = learning_rate)"
   ]
  },
  {
   "cell_type": "code",
   "execution_count": 45,
   "id": "35111f47",
   "metadata": {},
   "outputs": [
    {
     "name": "stdout",
     "output_type": "stream",
     "text": [
      "iteration: 500 loss: 1.8241043090820312 accuracy: 66.01190185546875%\n",
      "iteration: 1000 loss: 1.604768991470337 accuracy: 74.21428680419922%\n",
      "iteration: 1500 loss: 1.2825785875320435 accuracy: 77.57142639160156%\n",
      "iteration: 2000 loss: 1.1972886323928833 accuracy: 79.79762268066406%\n",
      "iteration: 2500 loss: 1.0268889665603638 accuracy: 80.92857360839844%\n",
      "iteration: 3000 loss: 0.9319267272949219 accuracy: 81.77381134033203%\n",
      "iteration: 3500 loss: 0.9140358567237854 accuracy: 82.4047622680664%\n",
      "iteration: 4000 loss: 0.757249653339386 accuracy: 82.94047546386719%\n",
      "iteration: 4500 loss: 0.9653962850570679 accuracy: 83.3452377319336%\n",
      "iteration: 5000 loss: 0.8069674968719482 accuracy: 83.71428680419922%\n",
      "iteration: 5500 loss: 0.7478561401367188 accuracy: 84.16666412353516%\n",
      "iteration: 6000 loss: 0.8762719631195068 accuracy: 84.45237731933594%\n",
      "iteration: 6500 loss: 0.6630396842956543 accuracy: 84.69047546386719%\n",
      "iteration: 7000 loss: 0.6989670395851135 accuracy: 84.97618865966797%\n",
      "iteration: 7500 loss: 0.6349248290061951 accuracy: 85.21428680419922%\n",
      "iteration: 8000 loss: 0.7405994534492493 accuracy: 85.46428680419922%\n",
      "iteration: 8500 loss: 0.5409230589866638 accuracy: 85.64286041259766%\n",
      "iteration: 9000 loss: 0.6559194922447205 accuracy: 85.78571319580078%\n",
      "iteration: 9500 loss: 0.5236253142356873 accuracy: 85.92857360839844%\n"
     ]
    }
   ],
   "source": [
    "# training model\n",
    "count = 0\n",
    "loss_list = []\n",
    "iteration_list = []\n",
    "for epoch in range(num_epochs):\n",
    "    for i, (images, labels) in enumerate(train_loader):\n",
    "        \n",
    "\n",
    "        #define variables\n",
    "        train = Variable(images.view(-1,28*28)) #flatten(784 vectors)\n",
    "        labels = Variable(labels)\n",
    "        \n",
    "        #clear gradients\n",
    "        optimizer.zero_grad()\n",
    "         \n",
    "        #forward propagation (Automatically calls forward function in LogisticRegressionModel)\n",
    "        outputs = model(train) \n",
    "        \n",
    "        #calculate softmax and cross entropy loss\n",
    "        loss = error(outputs, labels)\n",
    "        \n",
    "        # calculate gradients\n",
    "        loss.backward()\n",
    "       \n",
    "        #update parameters\n",
    "        optimizer.step()\n",
    "\n",
    "        count+=1\n",
    "        \n",
    "        #prediction\n",
    "        if count%50 == 0:\n",
    "            #calculate accuracy\n",
    "            correct = 0\n",
    "            total = 0\n",
    "            #predict test dataset\n",
    "            for images, labels in test_loader:\n",
    "                test = Variable(images.view(-1, 28*28))\n",
    "                \n",
    "                #forward propagation\n",
    "                outputs = model(test)\n",
    "                                \n",
    "                #get predictions from the maximum value\n",
    "                predicted = torch.max(outputs.data, 1)[1]\n",
    "                \n",
    "                #total number of labels\n",
    "                total += len(labels)\n",
    "                \n",
    "                #total correct predictions\n",
    "                correct += (predicted == labels).sum()\n",
    "                \n",
    "            accuracy = 100 * correct / float(total)\n",
    "            \n",
    "            #store loss and iteration\n",
    "            loss_list.append(loss.data)\n",
    "            iteration_list.append(count)\n",
    "        if count % 500 == 0:\n",
    "            #print loss\n",
    "            print(\"iteration: {} loss: {} accuracy: {}%\".format(count, loss.data, accuracy))                "
   ]
  },
  {
   "cell_type": "code",
   "execution_count": 46,
   "id": "86e2bd24",
   "metadata": {},
   "outputs": [
    {
     "data": {
      "image/png": "[encoded data removed]",
      "text/plain": [
       "<Figure size 432x288 with 1 Axes>"
      ]
     },
     "metadata": {
      "needs_background": "light"
     },
     "output_type": "display_data"
    }
   ],
   "source": [
    "#visualization\n",
    "plt.plot(iteration_list,loss_list)\n",
    "plt.xlabel(\"number of iteration\")\n",
    "plt.ylabel(\"loss\")\n",
    "plt.title(\"logistic regression: loss vs  number of iteration\")\n",
    "plt.show()"
   ]
  }
 ],
 "metadata": {
  "kernelspec": {
   "display_name": "Python 3 (ipykernel)",
   "language": "python",
   "name": "python3"
  },
  "language_info": {
   "codemirror_mode": {
    "name": "ipython",
    "version": 3
   },
   "file_extension": ".py",
   "mimetype": "text/x-python",
   "name": "python",
   "nbconvert_exporter": "python",
   "pygments_lexer": "ipython3",
   "version": "3.9.12"
  }
 },
 "nbformat": 4,
 "nbformat_minor": 5
}
